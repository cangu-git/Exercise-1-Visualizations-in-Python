{
 "cells": [
  {
   "cell_type": "code",
   "execution_count": null,
   "id": "ed23f218-608c-4dae-a388-5eed89bbd810",
   "metadata": {},
   "outputs": [],
   "source": [
    "#This script plots a monthly rainfall time series\n",
    "\n",
    "from pathlib import Path\n",
    "import pandas as pd\n",
    "import matplotlib.pyplot as plt\n",
    "import seaborn as sns\n",
    "import os\n",
    "\n",
    "rain_data = pd.read_excel(\"rainfall.xlsx\", sheet_name=\"Sheet1\")  # Import Excel file\n",
    "\n",
    "# Reshape from wide to long format\n",
    "rain_data_long = rain_data.melt(id_vars=\"Years\", var_name=\"Month\", value_name=\"Rainfall\")\n",
    "\n",
    "# Create a datetime index for proper time series plotting\n",
    "# Ensure months are ordered correctly\n",
    "month_order = [\"January\", \"February\", \"March\", \"April\", \"May\", \"June\",\n",
    "               \"July\", \"August\", \"September\", \"October\", \"November\", \"December\"]\n",
    "rain_data_long[\"Month\"] = pd.Categorical(rain_data_long[\"Month\"], categories=month_order, ordered=True)\n",
    "\n",
    "# Combine Year and Month into a datetime column\n",
    "rain_data_long[\"Date\"] = pd.to_datetime(rain_data_long[\"Years\"].astype(str) + rain_data_long[\"Month\"].astype(str), format=\"%Y%B\")\n",
    "\n",
    "# Sort by date\n",
    "rain_data_long = rain_data_long.sort_values(\"Date\")\n",
    "\n",
    "# Plot time series\n",
    "plt.figure(figsize=(16, 6))\n",
    "plt.plot(rain_data_long[\"Date\"], rain_data_long[\"Rainfall\"], color='blue')\n",
    "plt.title(\"Total Monthly Rainfall Time Series (1980 onwards)\", fontsize=11)\n",
    "plt.xlabel(\"Date\")\n",
    "plt.ylabel(\"Rainfall (mm)\")\n",
    "plt.grid(True)\n",
    "years = pd.date_range(start=\"1980\", end=\"2018\", freq=\"YS\")  # YS = Year Start\n",
    "plt.xticks(years, [d.year for d in years], rotation=90)\n",
    "\n",
    "output_folder = \"output\"\n",
    "os.makedirs(output_folder, exist_ok=True)  # Create an output folder if it doesn’t exist\n",
    "image_path = os.path.join(output_folder, \"Total Monthly Rainfall Time Series (1980 onwards)\")\n",
    "plt.savefig(image_path)\n",
    "print(f\"Plot saved at: {image_path}\")"
   ]
  }
 ],
 "metadata": {
  "kernelspec": {
   "display_name": "Python [conda env:base] *",
   "language": "python",
   "name": "conda-base-py"
  },
  "language_info": {
   "codemirror_mode": {
    "name": "ipython",
    "version": 3
   },
   "file_extension": ".py",
   "mimetype": "text/x-python",
   "name": "python",
   "nbconvert_exporter": "python",
   "pygments_lexer": "ipython3",
   "version": "3.12.7"
  }
 },
 "nbformat": 4,
 "nbformat_minor": 5
}
