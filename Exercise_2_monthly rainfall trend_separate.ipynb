{
 "cells": [
  {
   "cell_type": "code",
   "execution_count": null,
   "id": "65a8e100-5ea5-47d7-b88b-64e4bc490657",
   "metadata": {},
   "outputs": [],
   "source": [
    "#This script plots rainfall trend for each month simultaneously \n",
    "\n",
    "from pathlib import Path\n",
    "import pandas as pd\n",
    "import matplotlib.pyplot as plt\n",
    "import seaborn as sns\n",
    "import os\n",
    "\n",
    "rain_data = pd.read_excel(\"rainfall.xlsx\", sheet_name=\"Sheet1\")  # Import Excel file\n",
    "\n",
    "# Reshape from wide to long format\n",
    "rain_data_long = rain_data.melt(id_vars=\"Years\", var_name=\"Month\", value_name=\"Rainfall\")\n",
    "\n",
    "# Ensure months are in correct order\n",
    "month_order = [\"January\", \"February\", \"March\", \"April\", \"May\", \"June\",\n",
    "               \"July\", \"August\", \"September\", \"October\", \"November\", \"December\"]\n",
    "\n",
    "rain_data_long[\"Month\"] = pd.Categorical(rain_data_long[\"Month\"], categories=month_order, ordered=True)\n",
    "\n",
    "# Plot each month separately\n",
    "for month in month_order:\n",
    "    plt.figure(figsize=(8, 6))\n",
    "    month_data = rain_data_long[rain_data_long[\"Month\"] == month]\n",
    "    plt.plot(month_data[\"Years\"], month_data[\"Rainfall\"], marker='o', color='blue')\n",
    "    plt.title(f\"{month} Rainfall Trend (1980–2017)\", fontsize=11)\n",
    "    plt.xlabel(\"Year\")\n",
    "    plt.ylabel(\"Rainfall (mm)\")\n",
    "\n",
    "    # Set x-ticks to display all years\n",
    "    plt.xticks(month_data[\"Years\"].unique(), rotation=90)\n",
    "\n",
    "    # Grid and layout adjustments\n",
    "    plt.grid(True)\n",
    "    plt.tight_layout()\n",
    "    \n",
    " # Save the plot as a PNG file in the output folder\n",
    "    output_folder = \"output\"\n",
    "    os.makedirs(output_folder, exist_ok=True)  # Create an output folder if it doesn’t exist\n",
    "    plt.savefig(os.path.join(output_folder, f\"{month}_rainfall_trend.png\"))\n",
    "    #plt.close()  # Close the figure to avoid display (optional)\n",
    "\n",
    "print(\"Plots saved in the 'output' folder.\")"
   ]
  }
 ],
 "metadata": {
  "kernelspec": {
   "display_name": "Python [conda env:base] *",
   "language": "python",
   "name": "conda-base-py"
  },
  "language_info": {
   "codemirror_mode": {
    "name": "ipython",
    "version": 3
   },
   "file_extension": ".py",
   "mimetype": "text/x-python",
   "name": "python",
   "nbconvert_exporter": "python",
   "pygments_lexer": "ipython3",
   "version": "3.12.7"
  }
 },
 "nbformat": 4,
 "nbformat_minor": 5
}
