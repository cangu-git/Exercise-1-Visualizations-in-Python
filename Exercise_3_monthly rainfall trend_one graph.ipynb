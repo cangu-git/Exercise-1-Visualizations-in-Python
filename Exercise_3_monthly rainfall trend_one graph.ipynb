{
 "cells": [
  {
   "cell_type": "code",
   "execution_count": null,
   "id": "1b390bba-f525-4b64-b1df-dd19adae6dc5",
   "metadata": {},
   "outputs": [],
   "source": [
    "#This script plots rainfall time series for each month on one plot with a key\n",
    "\n",
    "from pathlib import Path\n",
    "import pandas as pd\n",
    "import matplotlib.pyplot as plt\n",
    "import seaborn as sns\n",
    "import os\n",
    "\n",
    "rain_data = pd.read_excel(\"rainfall.xlsx\", sheet_name=\"Sheet1\")  # Import Excel file\n",
    "rain_data.set_index(\"Years\", inplace=True) # Set 'Years' as index\n",
    "\n",
    "plt.figure(figsize=(14, 8))\n",
    "\n",
    "for month in rain_data.columns:\n",
    "    plt.plot(rain_data.index, rain_data[month], label=month)\n",
    "\n",
    "plt.title(\"Monthly Rainfall Trends (1980 onwards)\", fontsize=11)\n",
    "plt.xlabel(\"Year\")\n",
    "plt.ylabel(\"Rainfall (mm)\")\n",
    "plt.legend(title=\"Month\", bbox_to_anchor=(1.05, 1), loc='upper left')\n",
    "plt.grid(True)\n",
    "plt.tight_layout()\n",
    "output_folder = \"output\"\n",
    "os.makedirs(output_folder, exist_ok=True)  # Create an output folder if it doesn’t exist\n",
    "image_path = os.path.join(output_folder, \"Monthly Rainfall Trends (1980 onwards)\")\n",
    "plt.savefig(image_path)\n",
    "\n",
    "print(f\"Plot saved at: {image_path}\")"
   ]
  }
 ],
 "metadata": {
  "kernelspec": {
   "display_name": "Python [conda env:base] *",
   "language": "python",
   "name": "conda-base-py"
  },
  "language_info": {
   "codemirror_mode": {
    "name": "ipython",
    "version": 3
   },
   "file_extension": ".py",
   "mimetype": "text/x-python",
   "name": "python",
   "nbconvert_exporter": "python",
   "pygments_lexer": "ipython3",
   "version": "3.12.7"
  }
 },
 "nbformat": 4,
 "nbformat_minor": 5
}
